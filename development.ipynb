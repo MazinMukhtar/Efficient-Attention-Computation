{
 "cells": [
  {
   "cell_type": "code",
   "execution_count": null,
   "id": "457b8285",
   "metadata": {},
   "outputs": [],
   "source": [
    "import numpy as np\n",
    "\n",
    "import torch \n",
    "import torch as nn \n",
    "from torch.nn.utils.rnn import pack_sequence, pad_sequence, pack_padded_sequence, pad_packed_sequence \n",
    "import torch.nn.functional as F  \n",
    "\n",
    "import random \n",
    "import math \n",
    "\n",
    "from typing import Tuple  \n",
    "\n",
    "from einops import rearrange \n",
    "\n",
    "from flash_attn.flash_attention import FlashMHA "
   ]
  }
 ],
 "metadata": {
  "kernelspec": {
   "display_name": "deep-learning_venv",
   "language": "python",
   "name": "python3"
  },
  "language_info": {
   "name": "python",
   "version": "3.11.13"
  }
 },
 "nbformat": 4,
 "nbformat_minor": 5
}
