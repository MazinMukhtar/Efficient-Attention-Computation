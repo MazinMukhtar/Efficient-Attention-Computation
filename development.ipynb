{
  "nbformat": 4,
  "nbformat_minor": 0,
  "metadata": {
    "colab": {
      "provenance": [],
      "authorship_tag": "ABX9TyOOffjYAspIFgDz5B+wYGEp",
      "include_colab_link": true
    },
    "kernelspec": {
      "name": "python3",
      "display_name": "Python 3"
    },
    "language_info": {
      "name": "python"
    }
  },
  "cells": [
    {
      "cell_type": "markdown",
      "metadata": {
        "id": "view-in-github",
        "colab_type": "text"
      },
      "source": [
        "<a href=\"https://colab.research.google.com/github/MazinMukhtar/Efficient-Attention-Computation/blob/main/development.ipynb\" target=\"_parent\"><img src=\"https://colab.research.google.com/assets/colab-badge.svg\" alt=\"Open In Colab\"/></a>"
      ]
    },
    {
      "cell_type": "markdown",
      "source": [
        "# Efficient Computation of Attention Using Tesla GPUs\n",
        "\n",
        "Researching optimization techniques for attention computation in a production ML pipeline using JAX and xFormers for deployment on Tesla GPUs. This notebook will be used to test techniques using the SimCLR model architecture on the ImageNet dataset."
      ],
      "metadata": {
        "id": "ZxD4d5l3DN_t"
      }
    },
    {
      "cell_type": "code",
      "source": [],
      "metadata": {
        "id": "2OxaYWOQEuek"
      },
      "execution_count": null,
      "outputs": []
    }
  ]
}