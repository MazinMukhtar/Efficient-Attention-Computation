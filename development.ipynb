{
  "cells": [
    {
      "cell_type": "markdown",
      "metadata": {
        "colab_type": "text",
        "id": "view-in-github"
      },
      "source": [
        "<a href=\"https://colab.research.google.com/github/MazinMukhtar/Efficient-Attention-Computation/blob/main/development.ipynb\" target=\"_parent\"><img src=\"https://colab.research.google.com/assets/colab-badge.svg\" alt=\"Open In Colab\"/></a>"
      ]
    },
    {
      "cell_type": "markdown",
      "metadata": {
        "id": "ZxD4d5l3DN_t"
      },
      "source": [
        "# Efficient Computation of Attention Using Tesla GPUs\n",
        "\n",
        "Researching optimization techniques for attention computation in a production ML pipeline using JAX and xFormers for deployment on Tesla GPUs. This notebook will be used to test techniques using the SimCLR model architecture on the ImageNet dataset."
      ]
    },
    {
      "cell_type": "code",
      "execution_count": 2,
      "metadata": {
        "id": "2OxaYWOQEuek"
      },
      "outputs": [],
      "source": [
        "# Libraries for attention computation\n",
        "import jax \n",
        "import xformers  \n",
        "import torch "
      ]
    }
  ],
  "metadata": {
    "colab": {
      "authorship_tag": "ABX9TyOOffjYAspIFgDz5B+wYGEp",
      "include_colab_link": true,
      "provenance": []
    },
    "kernelspec": {
      "display_name": "deep-learning_venv",
      "language": "python",
      "name": "python3"
    },
    "language_info": {
      "codemirror_mode": {
        "name": "ipython",
        "version": 3
      },
      "file_extension": ".py",
      "mimetype": "text/x-python",
      "name": "python",
      "nbconvert_exporter": "python",
      "pygments_lexer": "ipython3",
      "version": "3.11.13"
    }
  },
  "nbformat": 4,
  "nbformat_minor": 0
}
